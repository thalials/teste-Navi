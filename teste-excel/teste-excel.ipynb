{
 "cells": [
  {
   "cell_type": "code",
   "execution_count": 1,
   "metadata": {},
   "outputs": [],
   "source": [
    "import pandas as pd\n",
    "import numpy as np\n",
    "import matplotlib.pyplot as plt"
   ]
  },
  {
   "cell_type": "code",
   "execution_count": 2,
   "metadata": {},
   "outputs": [],
   "source": [
    "dados = pd.read_excel(\"Dados.xlsx\")"
   ]
  },
  {
   "cell_type": "code",
   "execution_count": 3,
   "metadata": {
    "scrolled": true
   },
   "outputs": [
    {
     "data": {
      "text/html": [
       "<div>\n",
       "<style scoped>\n",
       "    .dataframe tbody tr th:only-of-type {\n",
       "        vertical-align: middle;\n",
       "    }\n",
       "\n",
       "    .dataframe tbody tr th {\n",
       "        vertical-align: top;\n",
       "    }\n",
       "\n",
       "    .dataframe thead th {\n",
       "        text-align: right;\n",
       "    }\n",
       "</style>\n",
       "<table border=\"1\" class=\"dataframe\">\n",
       "  <thead>\n",
       "    <tr style=\"text-align: right;\">\n",
       "      <th></th>\n",
       "      <th>Marca</th>\n",
       "      <th>Modelo</th>\n",
       "      <th>Ano</th>\n",
       "      <th>Valor Venda</th>\n",
       "      <th>Mês de Venda</th>\n",
       "    </tr>\n",
       "  </thead>\n",
       "  <tbody>\n",
       "    <tr>\n",
       "      <th>0</th>\n",
       "      <td>Audi</td>\n",
       "      <td>A4</td>\n",
       "      <td>2010</td>\n",
       "      <td>174408</td>\n",
       "      <td>agosto</td>\n",
       "    </tr>\n",
       "    <tr>\n",
       "      <th>1</th>\n",
       "      <td>Audi</td>\n",
       "      <td>A4</td>\n",
       "      <td>2010</td>\n",
       "      <td>107051</td>\n",
       "      <td>março</td>\n",
       "    </tr>\n",
       "    <tr>\n",
       "      <th>2</th>\n",
       "      <td>Audi</td>\n",
       "      <td>A4</td>\n",
       "      <td>2018</td>\n",
       "      <td>56003</td>\n",
       "      <td>junho</td>\n",
       "    </tr>\n",
       "    <tr>\n",
       "      <th>3</th>\n",
       "      <td>Audi</td>\n",
       "      <td>A4</td>\n",
       "      <td>2016</td>\n",
       "      <td>91751</td>\n",
       "      <td>abril</td>\n",
       "    </tr>\n",
       "    <tr>\n",
       "      <th>4</th>\n",
       "      <td>Audi</td>\n",
       "      <td>A4</td>\n",
       "      <td>2016</td>\n",
       "      <td>49872</td>\n",
       "      <td>julho</td>\n",
       "    </tr>\n",
       "  </tbody>\n",
       "</table>\n",
       "</div>"
      ],
      "text/plain": [
       "  Marca Modelo   Ano  Valor Venda Mês de Venda\n",
       "0  Audi     A4  2010       174408       agosto\n",
       "1  Audi     A4  2010       107051        março\n",
       "2  Audi     A4  2018        56003        junho\n",
       "3  Audi     A4  2016        91751        abril\n",
       "4  Audi     A4  2016        49872        julho"
      ]
     },
     "execution_count": 3,
     "metadata": {},
     "output_type": "execute_result"
    }
   ],
   "source": [
    "dados.head()"
   ]
  },
  {
   "cell_type": "markdown",
   "metadata": {},
   "source": [
    "### Questão 1"
   ]
  },
  {
   "cell_type": "markdown",
   "metadata": {},
   "source": [
    "a) Qual foi a venda média total que a loja teve no ano de 2019."
   ]
  },
  {
   "cell_type": "code",
   "execution_count": 4,
   "metadata": {},
   "outputs": [],
   "source": [
    "dados_2019 = dados[dados.Ano == 2019]"
   ]
  },
  {
   "cell_type": "code",
   "execution_count": 5,
   "metadata": {},
   "outputs": [
    {
     "name": "stdout",
     "output_type": "stream",
     "text": [
      "Média de vendas = R$ 119011.29\n"
     ]
    }
   ],
   "source": [
    "media = dados_2019[\"Valor Venda\"].mean()\n",
    "\n",
    "print(\"Média de vendas = R$ {0:.2f}\".format(media))"
   ]
  },
  {
   "cell_type": "markdown",
   "metadata": {},
   "source": [
    "b) Qual foi o desvio padrão das vendas totais da loja no ano de 2019."
   ]
  },
  {
   "cell_type": "code",
   "execution_count": 6,
   "metadata": {},
   "outputs": [
    {
     "name": "stdout",
     "output_type": "stream",
     "text": [
      "desvio padrão = R$ 35879.60\n"
     ]
    }
   ],
   "source": [
    "dp_2019 = dados_2019[\"Valor Venda\"].std()\n",
    "\n",
    "print(\"desvio padrão = R$ {0:.2f}\".format(dp_2019))"
   ]
  },
  {
   "cell_type": "markdown",
   "metadata": {},
   "source": [
    "c) A partir da venda média total (Resposta do item a). Quantos automóveis apresentaram valor de venda superior ao valor médio?"
   ]
  },
  {
   "cell_type": "code",
   "execution_count": 7,
   "metadata": {},
   "outputs": [
    {
     "name": "stdout",
     "output_type": "stream",
     "text": [
      "A quantidade de automóveis com valor de venda maior que o médio é 105\n"
     ]
    }
   ],
   "source": [
    "# automoveis com valor de venda superior ao medio \n",
    "superior = dados[(dados[\"Valor Venda\"] > 119011.29166666667 )]\n",
    "\n",
    "contagem = superior.shape[0]\n",
    "print(\"A quantidade de automóveis com valor de venda maior que o médio é {}\".format(contagem))"
   ]
  },
  {
   "cell_type": "markdown",
   "metadata": {},
   "source": [
    "d) Quantos automóveis Audi A3 forem vendidos no mês de abril? "
   ]
  },
  {
   "cell_type": "code",
   "execution_count": 8,
   "metadata": {},
   "outputs": [
    {
     "name": "stdout",
     "output_type": "stream",
     "text": [
      "A quantidade de carros Audi A3 vendidos no mês em questão é igual a 10\n"
     ]
    }
   ],
   "source": [
    "dados_abril = dados[dados[\"Mês de Venda\"] == \"abril\"]\n",
    "\n",
    "dados_abril_A3 = dados_abril[dados_abril.Modelo == \"A3\"]\n",
    "\n",
    "print(\"A quantidade de carros Audi A3 vendidos no mês em questão é igual a {}\".format(dados_abril_A3.shape[0]))"
   ]
  },
  {
   "cell_type": "markdown",
   "metadata": {},
   "source": [
    "e) Quantos automóveis Audi A4 foram vendidos no mês de dezembro?"
   ]
  },
  {
   "cell_type": "code",
   "execution_count": 9,
   "metadata": {},
   "outputs": [
    {
     "name": "stdout",
     "output_type": "stream",
     "text": [
      "A quantidade de carros Audi A4 vendidos no mês em questão é igual a 5\n"
     ]
    }
   ],
   "source": [
    "dados_abril = dados[dados[\"Mês de Venda\"] == \"dezembro\"]\n",
    "\n",
    "dados_abril_A4 = dados_abril[dados_abril.Modelo == \"A4\"]\n",
    "\n",
    "print(\"A quantidade de carros Audi A4 vendidos no mês em questão é igual a {}\".format(dados_abril_A4.shape[0]))"
   ]
  },
  {
   "cell_type": "markdown",
   "metadata": {},
   "source": [
    "f) Preencha a tabela abaixo com a quantidade (Absoluta) de automóveis vendidos no ano de 2019 segmentado pelos modelos A3; A4; A5? (Responda nessa sequência)"
   ]
  },
  {
   "cell_type": "code",
   "execution_count": 10,
   "metadata": {
    "scrolled": true
   },
   "outputs": [
    {
     "data": {
      "text/plain": [
       "A3    17\n",
       "A4     5\n",
       "A5     2\n",
       "Name: Modelo, dtype: int64"
      ]
     },
     "execution_count": 10,
     "metadata": {},
     "output_type": "execute_result"
    }
   ],
   "source": [
    "dados_2019.Modelo.value_counts()"
   ]
  },
  {
   "cell_type": "markdown",
   "metadata": {},
   "source": [
    "g) Preencha a tabela abaixo com a quantidade em termos percentuais (Relativo) de automóveis vendidos no ano de 2019 segmentado pelos modelos A3; A4; A5? (Responda nessa sequência)"
   ]
  },
  {
   "cell_type": "code",
   "execution_count": 11,
   "metadata": {},
   "outputs": [
    {
     "data": {
      "text/plain": [
       "A3    70.833333\n",
       "A4    20.833333\n",
       "A5     8.333333\n",
       "Name: Modelo, dtype: float64"
      ]
     },
     "execution_count": 11,
     "metadata": {},
     "output_type": "execute_result"
    }
   ],
   "source": [
    "100 * dados_2019.Modelo.value_counts() / len(dados_2019.Modelo)"
   ]
  },
  {
   "cell_type": "markdown",
   "metadata": {},
   "source": [
    "h) Qual foi o mês com a maior quantidade de vendas no ano?"
   ]
  },
  {
   "cell_type": "code",
   "execution_count": 12,
   "metadata": {},
   "outputs": [],
   "source": [
    "vendas2019 = (dados_2019[\"Mês de Venda\"].value_counts())"
   ]
  },
  {
   "cell_type": "code",
   "execution_count": 13,
   "metadata": {
    "scrolled": true
   },
   "outputs": [
    {
     "data": {
      "text/plain": [
       "<matplotlib.axes._subplots.AxesSubplot at 0x22ac6bff6a0>"
      ]
     },
     "execution_count": 13,
     "metadata": {},
     "output_type": "execute_result"
    },
    {
     "data": {
      "image/png": "[encoded data removed]",
      "text/plain": [
       "<Figure size 432x432 with 1 Axes>"
      ]
     },
     "metadata": {
      "needs_background": "light"
     },
     "output_type": "display_data"
    }
   ],
   "source": [
    "vendas2019.plot(kind='bar',title='VENDAS NO ANO 2019',figsize=(6, 6), color=('b','g','r','c','m'))"
   ]
  },
  {
   "cell_type": "code",
   "execution_count": 14,
   "metadata": {},
   "outputs": [
    {
     "name": "stdout",
     "output_type": "stream",
     "text": [
      "De acordo com o gráfico, nota-se que o mês em 2019 que tem maior quantidade é o mês de Fevereiro\n"
     ]
    }
   ],
   "source": [
    "print(\"De acordo com o gráfico, nota-se que o mês em 2019 que tem maior quantidade é o mês de Fevereiro\")"
   ]
  },
  {
   "cell_type": "code",
   "execution_count": 15,
   "metadata": {},
   "outputs": [],
   "source": [
    "# contagem de vendas ao longo de todos os anos \n",
    "ctgVendas = dados.groupby([\"Mês de Venda\"]).count()\n",
    "\n",
    "ctgVendas = ctgVendas.drop(columns=['Modelo', 'Ano', 'Valor Venda'])\n",
    "ctgVendas = ctgVendas.rename(columns={'Marca': 'contagem de vendas'})\n",
    "ctgVendas;"
   ]
  },
  {
   "cell_type": "code",
   "execution_count": 16,
   "metadata": {},
   "outputs": [
    {
     "data": {
      "text/plain": [
       "<matplotlib.axes._subplots.AxesSubplot at 0x22ac6f322b0>"
      ]
     },
     "execution_count": 16,
     "metadata": {},
     "output_type": "execute_result"
    },
    {
     "data": {
      "image/png": "[encoded data removed]",
      "text/plain": [
       "<Figure size 432x432 with 1 Axes>"
      ]
     },
     "metadata": {
      "needs_background": "light"
     },
     "output_type": "display_data"
    }
   ],
   "source": [
    "ctgVendas.plot(kind='bar',title='VENDAS AO LONGO DOS ANOS',figsize=(6, 6))"
   ]
  },
  {
   "cell_type": "markdown",
   "metadata": {},
   "source": [
    "i) Qual foi o mês em que a loja obteve maior faturamento?"
   ]
  },
  {
   "cell_type": "code",
   "execution_count": 17,
   "metadata": {},
   "outputs": [
    {
     "data": {
      "text/html": [
       "<div>\n",
       "<style scoped>\n",
       "    .dataframe tbody tr th:only-of-type {\n",
       "        vertical-align: middle;\n",
       "    }\n",
       "\n",
       "    .dataframe tbody tr th {\n",
       "        vertical-align: top;\n",
       "    }\n",
       "\n",
       "    .dataframe thead th {\n",
       "        text-align: right;\n",
       "    }\n",
       "</style>\n",
       "<table border=\"1\" class=\"dataframe\">\n",
       "  <thead>\n",
       "    <tr style=\"text-align: right;\">\n",
       "      <th></th>\n",
       "      <th>Valor Venda</th>\n",
       "    </tr>\n",
       "    <tr>\n",
       "      <th>Mês de Venda</th>\n",
       "      <th></th>\n",
       "    </tr>\n",
       "  </thead>\n",
       "  <tbody>\n",
       "    <tr>\n",
       "      <th>abril</th>\n",
       "      <td>2383758</td>\n",
       "    </tr>\n",
       "    <tr>\n",
       "      <th>agosto</th>\n",
       "      <td>1660915</td>\n",
       "    </tr>\n",
       "    <tr>\n",
       "      <th>dezembro</th>\n",
       "      <td>2746511</td>\n",
       "    </tr>\n",
       "    <tr>\n",
       "      <th>fevereiro</th>\n",
       "      <td>3010835</td>\n",
       "    </tr>\n",
       "    <tr>\n",
       "      <th>janeiro</th>\n",
       "      <td>3557149</td>\n",
       "    </tr>\n",
       "    <tr>\n",
       "      <th>julho</th>\n",
       "      <td>2298865</td>\n",
       "    </tr>\n",
       "    <tr>\n",
       "      <th>junho</th>\n",
       "      <td>2549705</td>\n",
       "    </tr>\n",
       "    <tr>\n",
       "      <th>maio</th>\n",
       "      <td>1703688</td>\n",
       "    </tr>\n",
       "    <tr>\n",
       "      <th>março</th>\n",
       "      <td>1970881</td>\n",
       "    </tr>\n",
       "    <tr>\n",
       "      <th>novembro</th>\n",
       "      <td>2300523</td>\n",
       "    </tr>\n",
       "    <tr>\n",
       "      <th>outubro</th>\n",
       "      <td>2234168</td>\n",
       "    </tr>\n",
       "    <tr>\n",
       "      <th>setembro</th>\n",
       "      <td>1700708</td>\n",
       "    </tr>\n",
       "  </tbody>\n",
       "</table>\n",
       "</div>"
      ],
      "text/plain": [
       "              Valor Venda\n",
       "Mês de Venda             \n",
       "abril             2383758\n",
       "agosto            1660915\n",
       "dezembro          2746511\n",
       "fevereiro         3010835\n",
       "janeiro           3557149\n",
       "julho             2298865\n",
       "junho             2549705\n",
       "maio              1703688\n",
       "março             1970881\n",
       "novembro          2300523\n",
       "outubro           2234168\n",
       "setembro          1700708"
      ]
     },
     "execution_count": 17,
     "metadata": {},
     "output_type": "execute_result"
    }
   ],
   "source": [
    "faturamento = dados.groupby([\"Mês de Venda\"]).sum()\n",
    "faturamento = faturamento.drop('Ano', 1)\n",
    "faturamento"
   ]
  },
  {
   "cell_type": "code",
   "execution_count": 18,
   "metadata": {},
   "outputs": [
    {
     "data": {
      "text/plain": [
       "<matplotlib.axes._subplots.AxesSubplot at 0x22ac6bcfb00>"
      ]
     },
     "execution_count": 18,
     "metadata": {},
     "output_type": "execute_result"
    },
    {
     "data": {
      "image/png": "[encoded data removed]",
      "text/plain": [
       "<Figure size 432x432 with 1 Axes>"
      ]
     },
     "metadata": {
      "needs_background": "light"
     },
     "output_type": "display_data"
    }
   ],
   "source": [
    "faturamento.plot(kind='bar',title='FATURAMENTO AO LONGO DOS ANOS',figsize=(6, 6))"
   ]
  },
  {
   "cell_type": "markdown",
   "metadata": {},
   "source": [
    "j) Preencha a tabela abaixo com as respectivas vendas medias mensais: "
   ]
  },
  {
   "cell_type": "code",
   "execution_count": 19,
   "metadata": {},
   "outputs": [
    {
     "data": {
      "text/html": [
       "<div>\n",
       "<style scoped>\n",
       "    .dataframe tbody tr th:only-of-type {\n",
       "        vertical-align: middle;\n",
       "    }\n",
       "\n",
       "    .dataframe tbody tr th {\n",
       "        vertical-align: top;\n",
       "    }\n",
       "\n",
       "    .dataframe thead th {\n",
       "        text-align: right;\n",
       "    }\n",
       "</style>\n",
       "<table border=\"1\" class=\"dataframe\">\n",
       "  <thead>\n",
       "    <tr style=\"text-align: right;\">\n",
       "      <th></th>\n",
       "      <th>Média das vendas</th>\n",
       "    </tr>\n",
       "    <tr>\n",
       "      <th>Mês de Venda</th>\n",
       "      <th></th>\n",
       "    </tr>\n",
       "  </thead>\n",
       "  <tbody>\n",
       "    <tr>\n",
       "      <th>abril</th>\n",
       "      <td>113512.285714</td>\n",
       "    </tr>\n",
       "    <tr>\n",
       "      <th>agosto</th>\n",
       "      <td>103807.187500</td>\n",
       "    </tr>\n",
       "    <tr>\n",
       "      <th>dezembro</th>\n",
       "      <td>119413.521739</td>\n",
       "    </tr>\n",
       "    <tr>\n",
       "      <th>fevereiro</th>\n",
       "      <td>111512.407407</td>\n",
       "    </tr>\n",
       "    <tr>\n",
       "      <th>janeiro</th>\n",
       "      <td>122660.310345</td>\n",
       "    </tr>\n",
       "    <tr>\n",
       "      <th>julho</th>\n",
       "      <td>120992.894737</td>\n",
       "    </tr>\n",
       "    <tr>\n",
       "      <th>junho</th>\n",
       "      <td>101988.200000</td>\n",
       "    </tr>\n",
       "    <tr>\n",
       "      <th>maio</th>\n",
       "      <td>121692.000000</td>\n",
       "    </tr>\n",
       "    <tr>\n",
       "      <th>março</th>\n",
       "      <td>89585.500000</td>\n",
       "    </tr>\n",
       "    <tr>\n",
       "      <th>novembro</th>\n",
       "      <td>100022.739130</td>\n",
       "    </tr>\n",
       "    <tr>\n",
       "      <th>outubro</th>\n",
       "      <td>93090.333333</td>\n",
       "    </tr>\n",
       "    <tr>\n",
       "      <th>setembro</th>\n",
       "      <td>106294.250000</td>\n",
       "    </tr>\n",
       "  </tbody>\n",
       "</table>\n",
       "</div>"
      ],
      "text/plain": [
       "              Média das vendas\n",
       "Mês de Venda                  \n",
       "abril            113512.285714\n",
       "agosto           103807.187500\n",
       "dezembro         119413.521739\n",
       "fevereiro        111512.407407\n",
       "janeiro          122660.310345\n",
       "julho            120992.894737\n",
       "junho            101988.200000\n",
       "maio             121692.000000\n",
       "março             89585.500000\n",
       "novembro         100022.739130\n",
       "outubro           93090.333333\n",
       "setembro         106294.250000"
      ]
     },
     "execution_count": 19,
     "metadata": {},
     "output_type": "execute_result"
    }
   ],
   "source": [
    "medias_mensais = dados.groupby([\"Mês de Venda\"]).mean()\n",
    "medias_mensais = medias_mensais.drop('Ano', 1)\n",
    "medias_mensais = medias_mensais.rename(columns={'Valor Venda': 'Média das vendas'})\n",
    "\n",
    "medias_mensais"
   ]
  },
  {
   "cell_type": "markdown",
   "metadata": {},
   "source": [
    "k) Preencha a tabela abaixo com as respectivas vendas medias mensais do primeiro semestre de 2019 (de Janeiro a Julho)"
   ]
  },
  {
   "cell_type": "code",
   "execution_count": 20,
   "metadata": {
    "scrolled": true
   },
   "outputs": [
    {
     "data": {
      "text/html": [
       "<div>\n",
       "<style scoped>\n",
       "    .dataframe tbody tr th:only-of-type {\n",
       "        vertical-align: middle;\n",
       "    }\n",
       "\n",
       "    .dataframe tbody tr th {\n",
       "        vertical-align: top;\n",
       "    }\n",
       "\n",
       "    .dataframe thead th {\n",
       "        text-align: right;\n",
       "    }\n",
       "</style>\n",
       "<table border=\"1\" class=\"dataframe\">\n",
       "  <thead>\n",
       "    <tr style=\"text-align: right;\">\n",
       "      <th></th>\n",
       "      <th>Marca</th>\n",
       "      <th>Modelo</th>\n",
       "      <th>Ano</th>\n",
       "      <th>Valor Venda</th>\n",
       "      <th>Mês de Venda</th>\n",
       "    </tr>\n",
       "  </thead>\n",
       "  <tbody>\n",
       "    <tr>\n",
       "      <th>5</th>\n",
       "      <td>Audi</td>\n",
       "      <td>A4</td>\n",
       "      <td>2019</td>\n",
       "      <td>102446</td>\n",
       "      <td>janeiro</td>\n",
       "    </tr>\n",
       "    <tr>\n",
       "      <th>7</th>\n",
       "      <td>Audi</td>\n",
       "      <td>A4</td>\n",
       "      <td>2019</td>\n",
       "      <td>151238</td>\n",
       "      <td>dezembro</td>\n",
       "    </tr>\n",
       "    <tr>\n",
       "      <th>44</th>\n",
       "      <td>Audi</td>\n",
       "      <td>A4</td>\n",
       "      <td>2019</td>\n",
       "      <td>173047</td>\n",
       "      <td>julho</td>\n",
       "    </tr>\n",
       "    <tr>\n",
       "      <th>55</th>\n",
       "      <td>Audi</td>\n",
       "      <td>A4</td>\n",
       "      <td>2019</td>\n",
       "      <td>103382</td>\n",
       "      <td>março</td>\n",
       "    </tr>\n",
       "    <tr>\n",
       "      <th>66</th>\n",
       "      <td>Audi</td>\n",
       "      <td>A4</td>\n",
       "      <td>2019</td>\n",
       "      <td>81337</td>\n",
       "      <td>fevereiro</td>\n",
       "    </tr>\n",
       "  </tbody>\n",
       "</table>\n",
       "</div>"
      ],
      "text/plain": [
       "   Marca Modelo   Ano  Valor Venda Mês de Venda\n",
       "5   Audi     A4  2019       102446      janeiro\n",
       "7   Audi     A4  2019       151238     dezembro\n",
       "44  Audi     A4  2019       173047        julho\n",
       "55  Audi     A4  2019       103382        março\n",
       "66  Audi     A4  2019        81337    fevereiro"
      ]
     },
     "execution_count": 20,
     "metadata": {},
     "output_type": "execute_result"
    }
   ],
   "source": [
    "dados_2019.head()"
   ]
  },
  {
   "cell_type": "code",
   "execution_count": 37,
   "metadata": {
    "scrolled": true
   },
   "outputs": [],
   "source": [
    "medias2019 = dados_2019.set_index('Mês de Venda')\n",
    "medias2019 = medias2019.loc[['janeiro', 'fevereiro', 'março', 'abril', 'maio', 'junho', 'julho']]\n",
    "medias2019;"
   ]
  },
  {
   "cell_type": "code",
   "execution_count": 35,
   "metadata": {},
   "outputs": [],
   "source": [
    "# para o A3 \n",
    "medias2019_A3 = medias2019[medias2019.Modelo == \"A3\"]\n",
    "medias2019_A3;"
   ]
  },
  {
   "cell_type": "code",
   "execution_count": 30,
   "metadata": {},
   "outputs": [
    {
     "data": {
      "text/html": [
       "<div>\n",
       "<style scoped>\n",
       "    .dataframe tbody tr th:only-of-type {\n",
       "        vertical-align: middle;\n",
       "    }\n",
       "\n",
       "    .dataframe tbody tr th {\n",
       "        vertical-align: top;\n",
       "    }\n",
       "\n",
       "    .dataframe thead th {\n",
       "        text-align: right;\n",
       "    }\n",
       "</style>\n",
       "<table border=\"1\" class=\"dataframe\">\n",
       "  <thead>\n",
       "    <tr style=\"text-align: right;\">\n",
       "      <th></th>\n",
       "      <th>Média das vendas 2019 - A3</th>\n",
       "    </tr>\n",
       "    <tr>\n",
       "      <th>Mês de Venda</th>\n",
       "      <th></th>\n",
       "    </tr>\n",
       "  </thead>\n",
       "  <tbody>\n",
       "    <tr>\n",
       "      <th>abril</th>\n",
       "      <td>90119.5</td>\n",
       "    </tr>\n",
       "    <tr>\n",
       "      <th>fevereiro</th>\n",
       "      <td>97252.0</td>\n",
       "    </tr>\n",
       "    <tr>\n",
       "      <th>janeiro</th>\n",
       "      <td>138178.0</td>\n",
       "    </tr>\n",
       "    <tr>\n",
       "      <th>julho</th>\n",
       "      <td>125657.0</td>\n",
       "    </tr>\n",
       "    <tr>\n",
       "      <th>junho</th>\n",
       "      <td>84676.0</td>\n",
       "    </tr>\n",
       "    <tr>\n",
       "      <th>maio</th>\n",
       "      <td>103557.0</td>\n",
       "    </tr>\n",
       "    <tr>\n",
       "      <th>março</th>\n",
       "      <td>133407.0</td>\n",
       "    </tr>\n",
       "  </tbody>\n",
       "</table>\n",
       "</div>"
      ],
      "text/plain": [
       "              Média das vendas 2019 - A3\n",
       "Mês de Venda                            \n",
       "abril                            90119.5\n",
       "fevereiro                        97252.0\n",
       "janeiro                         138178.0\n",
       "julho                           125657.0\n",
       "junho                            84676.0\n",
       "maio                            103557.0\n",
       "março                           133407.0"
      ]
     },
     "execution_count": 30,
     "metadata": {},
     "output_type": "execute_result"
    }
   ],
   "source": [
    "medias2019_A3 = medias2019_A3.groupby([\"Mês de Venda\"]).mean()\n",
    "medias2019_A3 = medias2019_A3.drop('Ano', 1)\n",
    "medias2019_A3= medias2019_A3.rename(columns={'Valor Venda': 'Média das vendas 2019 - A3'})\n",
    "\n",
    "medias2019_A3"
   ]
  },
  {
   "cell_type": "code",
   "execution_count": 31,
   "metadata": {},
   "outputs": [
    {
     "data": {
      "text/html": [
       "<div>\n",
       "<style scoped>\n",
       "    .dataframe tbody tr th:only-of-type {\n",
       "        vertical-align: middle;\n",
       "    }\n",
       "\n",
       "    .dataframe tbody tr th {\n",
       "        vertical-align: top;\n",
       "    }\n",
       "\n",
       "    .dataframe thead th {\n",
       "        text-align: right;\n",
       "    }\n",
       "</style>\n",
       "<table border=\"1\" class=\"dataframe\">\n",
       "  <thead>\n",
       "    <tr style=\"text-align: right;\">\n",
       "      <th></th>\n",
       "      <th>Média das vendas 2019 - A4</th>\n",
       "    </tr>\n",
       "    <tr>\n",
       "      <th>Mês de Venda</th>\n",
       "      <th></th>\n",
       "    </tr>\n",
       "  </thead>\n",
       "  <tbody>\n",
       "    <tr>\n",
       "      <th>fevereiro</th>\n",
       "      <td>81337</td>\n",
       "    </tr>\n",
       "    <tr>\n",
       "      <th>janeiro</th>\n",
       "      <td>102446</td>\n",
       "    </tr>\n",
       "    <tr>\n",
       "      <th>julho</th>\n",
       "      <td>173047</td>\n",
       "    </tr>\n",
       "    <tr>\n",
       "      <th>março</th>\n",
       "      <td>103382</td>\n",
       "    </tr>\n",
       "  </tbody>\n",
       "</table>\n",
       "</div>"
      ],
      "text/plain": [
       "              Média das vendas 2019 - A4\n",
       "Mês de Venda                            \n",
       "fevereiro                          81337\n",
       "janeiro                           102446\n",
       "julho                             173047\n",
       "março                             103382"
      ]
     },
     "execution_count": 31,
     "metadata": {},
     "output_type": "execute_result"
    }
   ],
   "source": [
    "# PARA A4\n",
    "\n",
    "medias2019_A4 = medias2019[medias2019.Modelo == \"A4\"]\n",
    "\n",
    "medias2019_A4 = medias2019_A4.groupby([\"Mês de Venda\"]).mean()\n",
    "medias2019_A4 = medias2019_A4.drop('Ano', 1)\n",
    "medias2019_A4 = medias2019_A4.rename(columns={'Valor Venda': 'Média das vendas 2019 - A4'})\n",
    "\n",
    "medias2019_A4"
   ]
  },
  {
   "cell_type": "code",
   "execution_count": 32,
   "metadata": {},
   "outputs": [
    {
     "data": {
      "text/html": [
       "<div>\n",
       "<style scoped>\n",
       "    .dataframe tbody tr th:only-of-type {\n",
       "        vertical-align: middle;\n",
       "    }\n",
       "\n",
       "    .dataframe tbody tr th {\n",
       "        vertical-align: top;\n",
       "    }\n",
       "\n",
       "    .dataframe thead th {\n",
       "        text-align: right;\n",
       "    }\n",
       "</style>\n",
       "<table border=\"1\" class=\"dataframe\">\n",
       "  <thead>\n",
       "    <tr style=\"text-align: right;\">\n",
       "      <th></th>\n",
       "      <th>Média das vendas 2019 - A5</th>\n",
       "    </tr>\n",
       "    <tr>\n",
       "      <th>Mês de Venda</th>\n",
       "      <th></th>\n",
       "    </tr>\n",
       "  </thead>\n",
       "  <tbody>\n",
       "    <tr>\n",
       "      <th>fevereiro</th>\n",
       "      <td>156696</td>\n",
       "    </tr>\n",
       "    <tr>\n",
       "      <th>janeiro</th>\n",
       "      <td>217372</td>\n",
       "    </tr>\n",
       "  </tbody>\n",
       "</table>\n",
       "</div>"
      ],
      "text/plain": [
       "              Média das vendas 2019 - A5\n",
       "Mês de Venda                            \n",
       "fevereiro                         156696\n",
       "janeiro                           217372"
      ]
     },
     "execution_count": 32,
     "metadata": {},
     "output_type": "execute_result"
    }
   ],
   "source": [
    "# PARA A5\n",
    "\n",
    "medias2019_A5 = medias2019[medias2019.Modelo == \"A5\"]\n",
    "\n",
    "medias2019_A5 = medias2019_A5.groupby([\"Mês de Venda\"]).mean()\n",
    "medias2019_A5 = medias2019_A5.drop('Ano', 1)\n",
    "medias2019_A5 = medias2019_A5.rename(columns={'Valor Venda': 'Média das vendas 2019 - A5'})\n",
    "\n",
    "medias2019_A5"
   ]
  },
  {
   "cell_type": "code",
   "execution_count": null,
   "metadata": {},
   "outputs": [],
   "source": []
  }
 ],
 "metadata": {
  "kernelspec": {
   "display_name": "Python 3",
   "language": "python",
   "name": "python3"
  },
  "language_info": {
   "codemirror_mode": {
    "name": "ipython",
    "version": 3
   },
   "file_extension": ".py",
   "mimetype": "text/x-python",
   "name": "python",
   "nbconvert_exporter": "python",
   "pygments_lexer": "ipython3",
   "version": "3.7.1"
  }
 },
 "nbformat": 4,
 "nbformat_minor": 2
}
